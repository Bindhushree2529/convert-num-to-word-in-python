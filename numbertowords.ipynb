{
  "nbformat": 4,
  "nbformat_minor": 0,
  "metadata": {
    "colab": {
      "provenance": [],
      "authorship_tag": "ABX9TyPmuBILE3R01IaBFgLLonzN",
      "include_colab_link": true
    },
    "kernelspec": {
      "name": "python3",
      "display_name": "Python 3"
    },
    "language_info": {
      "name": "python"
    }
  },
  "cells": [
    {
      "cell_type": "markdown",
      "metadata": {
        "id": "view-in-github",
        "colab_type": "text"
      },
      "source": [
        "<a href=\"https://colab.research.google.com/github/Bindhushree2529/convert-num-to-word-in-python/blob/main/numbertowords.ipynb\" target=\"_parent\"><img src=\"https://colab.research.google.com/assets/colab-badge.svg\" alt=\"Open In Colab\"/></a>"
      ]
    },
    {
      "cell_type": "code",
      "execution_count": null,
      "metadata": {
        "colab": {
          "base_uri": "https://localhost:8080/"
        },
        "id": "EQHeQMClBIy5",
        "outputId": "8aaacb0a-e4d0-411c-cad7-61730f727b1b"
      },
      "outputs": [
        {
          "output_type": "stream",
          "name": "stdout",
          "text": [
            "Enter any number to convert it into words or 'exit' to stop: 34\n",
            "34 --> Thirty four\n"
          ]
        }
      ],
      "source": [
        "one_digit_words = {\n",
        "        '0': [\"zero\"],\n",
        "        '1': [\"one\"],\n",
        "        '2': [\"two\", \"twen\"],\n",
        "        '3': [\"three\", \"thir\"],\n",
        "        '4': [\"four\", \"for\"],\n",
        "        '5': [\"five\", \"fif\"],\n",
        "        '6': [\"six\"],\n",
        "        '7': [\"seven\"],\n",
        "        '8': [\"eight\"],\n",
        "        '9': [\"nine\"],\n",
        "    }\n",
        "\n",
        "two_digit_words = [\"ten\", \"eleven\", \"twelve\"]\n",
        "hundred = \"hundred\"\n",
        "large_sum_words = [\"thousand\", \"million\", \"billion\", \"trillion\", \"quadrillion\", \"quintillion\", \"sextillion\", \"septillion\", \"octillion\", \"nonillion\"]\n",
        "\n",
        "def converter(n):\n",
        "    word = []\n",
        "\n",
        "    if n.startswith('-'):\n",
        "        word.append(\"(negative)\")\n",
        "        n = n[1:]\n",
        "\n",
        "    if len(n) % 3 != 0 and len(n) > 3:\n",
        "        n = n.zfill(3 * (((len(n)-1) // 3) + 1))\n",
        "\n",
        "    sum_list = [n[i:i + 3] for i in range(0, len(n), 3)]\n",
        "    skip = False\n",
        "\n",
        "    for i, num in enumerate(sum_list):\n",
        "        if num != '000': skip = False\n",
        "\n",
        "        for _ in range(len(num)):\n",
        "            num = num.lstrip('0')\n",
        "            if len(num) == 1:\n",
        "                if (len(sum_list) > 1 or (len(sum_list) == 1 and len(sum_list[0]) == 3)) and i == len(sum_list) - 1 and (word[-1] in large_sum_words or hundred in word[-1]):\n",
        "                    word.append(\"and\")\n",
        "                word.append(one_digit_words[num][0])\n",
        "                num = num[1:]\n",
        "                break\n",
        "\n",
        "            if len(num) == 2:\n",
        "                if num[0] != '0':\n",
        "                    if (len(sum_list) > 1 or (len(sum_list) == 1 and len(sum_list[0]) == 3)) and i == len(sum_list) - 1:\n",
        "                        word.append(\"and\")\n",
        "                    if num.startswith('1'):\n",
        "                        if int(num[1]) in range(3):\n",
        "                            word.append(two_digit_words[int(num[1])])\n",
        "                        else:\n",
        "                            number = one_digit_words[num[1]][1 if int(num[1]) in range(3, 6, 2) else 0]\n",
        "                            word.append(number + (\"teen\" if not number[-1] == 't' else \"een\"))\n",
        "                    else:\n",
        "                        word.append(one_digit_words[num[0]][1 if int(num[0]) in range(2, 6) else 0] + (\"ty \" if num[0] != '8' else 'y ') + (one_digit_words[num[1]][0] if num[1] != '0' else \"\"))\n",
        "                    break\n",
        "                else:\n",
        "                    num = num[1:]\n",
        "                    continue\n",
        "\n",
        "            if len(num) == 3:\n",
        "                if num[0] != '0':\n",
        "                    word.append(one_digit_words[num[0]][0] + \" \" + hundred)\n",
        "                    if num[1:] == '00': break\n",
        "                num = num[1:]\n",
        "\n",
        "        if len(sum_list[i:]) > 1 and not skip:\n",
        "            word.append(large_sum_words[len(sum_list[i:]) - 2])\n",
        "            skip = True\n",
        "\n",
        "    word = \" \".join(map(str.strip, word))\n",
        "    return word[0].lstrip().upper() + word[1:].rstrip().lower() if \"negative\" not in word else word[:11].lstrip() + word[11].upper() + word[12:].rstrip().lower()\n",
        "\n",
        "if __name__ == \"__main__\":\n",
        "    while True:\n",
        "        try:\n",
        "            n = input(\"Enter any number to convert it into words or 'exit' to stop: \")\n",
        "            if n == \"exit\":\n",
        "                break\n",
        "            int(n)\n",
        "            print(n, \"-->\", converter(n))\n",
        "        except ValueError:\n",
        "            print(\"Error: Invalid Number!\")"
      ]
    },
    {
      "cell_type": "code",
      "source": [],
      "metadata": {
        "id": "eRtWd75kBJrd"
      },
      "execution_count": null,
      "outputs": []
    }
  ]
}